{
 "cells": [
  {
   "cell_type": "code",
   "execution_count": 1,
   "metadata": {},
   "outputs": [
    {
     "name": "stderr",
     "output_type": "stream",
     "text": [
      "C:\\Users\\danis\\Anaconda3\\envs\\ai3\\lib\\site-packages\\tensorflow\\python\\framework\\dtypes.py:516: FutureWarning: Passing (type, 1) or '1type' as a synonym of type is deprecated; in a future version of numpy, it will be understood as (type, (1,)) / '(1,)type'.\n",
      "  _np_qint8 = np.dtype([(\"qint8\", np.int8, 1)])\n",
      "C:\\Users\\danis\\Anaconda3\\envs\\ai3\\lib\\site-packages\\tensorflow\\python\\framework\\dtypes.py:517: FutureWarning: Passing (type, 1) or '1type' as a synonym of type is deprecated; in a future version of numpy, it will be understood as (type, (1,)) / '(1,)type'.\n",
      "  _np_quint8 = np.dtype([(\"quint8\", np.uint8, 1)])\n",
      "C:\\Users\\danis\\Anaconda3\\envs\\ai3\\lib\\site-packages\\tensorflow\\python\\framework\\dtypes.py:518: FutureWarning: Passing (type, 1) or '1type' as a synonym of type is deprecated; in a future version of numpy, it will be understood as (type, (1,)) / '(1,)type'.\n",
      "  _np_qint16 = np.dtype([(\"qint16\", np.int16, 1)])\n",
      "C:\\Users\\danis\\Anaconda3\\envs\\ai3\\lib\\site-packages\\tensorflow\\python\\framework\\dtypes.py:519: FutureWarning: Passing (type, 1) or '1type' as a synonym of type is deprecated; in a future version of numpy, it will be understood as (type, (1,)) / '(1,)type'.\n",
      "  _np_quint16 = np.dtype([(\"quint16\", np.uint16, 1)])\n",
      "C:\\Users\\danis\\Anaconda3\\envs\\ai3\\lib\\site-packages\\tensorflow\\python\\framework\\dtypes.py:520: FutureWarning: Passing (type, 1) or '1type' as a synonym of type is deprecated; in a future version of numpy, it will be understood as (type, (1,)) / '(1,)type'.\n",
      "  _np_qint32 = np.dtype([(\"qint32\", np.int32, 1)])\n",
      "C:\\Users\\danis\\Anaconda3\\envs\\ai3\\lib\\site-packages\\tensorflow\\python\\framework\\dtypes.py:525: FutureWarning: Passing (type, 1) or '1type' as a synonym of type is deprecated; in a future version of numpy, it will be understood as (type, (1,)) / '(1,)type'.\n",
      "  np_resource = np.dtype([(\"resource\", np.ubyte, 1)])\n",
      "C:\\Users\\danis\\Anaconda3\\envs\\ai3\\lib\\site-packages\\tensorboard\\compat\\tensorflow_stub\\dtypes.py:541: FutureWarning: Passing (type, 1) or '1type' as a synonym of type is deprecated; in a future version of numpy, it will be understood as (type, (1,)) / '(1,)type'.\n",
      "  _np_qint8 = np.dtype([(\"qint8\", np.int8, 1)])\n",
      "C:\\Users\\danis\\Anaconda3\\envs\\ai3\\lib\\site-packages\\tensorboard\\compat\\tensorflow_stub\\dtypes.py:542: FutureWarning: Passing (type, 1) or '1type' as a synonym of type is deprecated; in a future version of numpy, it will be understood as (type, (1,)) / '(1,)type'.\n",
      "  _np_quint8 = np.dtype([(\"quint8\", np.uint8, 1)])\n",
      "C:\\Users\\danis\\Anaconda3\\envs\\ai3\\lib\\site-packages\\tensorboard\\compat\\tensorflow_stub\\dtypes.py:543: FutureWarning: Passing (type, 1) or '1type' as a synonym of type is deprecated; in a future version of numpy, it will be understood as (type, (1,)) / '(1,)type'.\n",
      "  _np_qint16 = np.dtype([(\"qint16\", np.int16, 1)])\n",
      "C:\\Users\\danis\\Anaconda3\\envs\\ai3\\lib\\site-packages\\tensorboard\\compat\\tensorflow_stub\\dtypes.py:544: FutureWarning: Passing (type, 1) or '1type' as a synonym of type is deprecated; in a future version of numpy, it will be understood as (type, (1,)) / '(1,)type'.\n",
      "  _np_quint16 = np.dtype([(\"quint16\", np.uint16, 1)])\n",
      "C:\\Users\\danis\\Anaconda3\\envs\\ai3\\lib\\site-packages\\tensorboard\\compat\\tensorflow_stub\\dtypes.py:545: FutureWarning: Passing (type, 1) or '1type' as a synonym of type is deprecated; in a future version of numpy, it will be understood as (type, (1,)) / '(1,)type'.\n",
      "  _np_qint32 = np.dtype([(\"qint32\", np.int32, 1)])\n",
      "C:\\Users\\danis\\Anaconda3\\envs\\ai3\\lib\\site-packages\\tensorboard\\compat\\tensorflow_stub\\dtypes.py:550: FutureWarning: Passing (type, 1) or '1type' as a synonym of type is deprecated; in a future version of numpy, it will be understood as (type, (1,)) / '(1,)type'.\n",
      "  np_resource = np.dtype([(\"resource\", np.ubyte, 1)])\n"
     ]
    }
   ],
   "source": [
    "import tensorflow\n",
    "from tensorflow import keras\n",
    "from time import time"
   ]
  },
  {
   "cell_type": "code",
   "execution_count": 2,
   "metadata": {},
   "outputs": [],
   "source": [
    "import pandas as pd\n",
    "import numpy as np\n",
    "import matplotlib.pyplot as plt\n",
    "import seaborn as sns\n",
    "from tqdm import tqdm\n",
    "import os\n",
    "import cv2"
   ]
  },
  {
   "cell_type": "code",
   "execution_count": 3,
   "metadata": {},
   "outputs": [],
   "source": [
    "train_df = pd.read_csv(\"dataset/train.csv\")\n",
    "test_df = pd.read_csv(\"dataset/test.csv\")"
   ]
  },
  {
   "cell_type": "code",
   "execution_count": 4,
   "metadata": {},
   "outputs": [],
   "source": [
    "train_dir = os.path.join(\"./dataset/\"+'Train/')\n",
    "test_dir = os.path.join(\"./dataset/\"+'Test/')"
   ]
  },
  {
   "cell_type": "code",
   "execution_count": 5,
   "metadata": {},
   "outputs": [],
   "source": [
    "train_fnames = list(os.listdir(train_dir))\n",
    "test_fnames = list(os.listdir(test_dir))"
   ]
  },
  {
   "cell_type": "code",
   "execution_count": 6,
   "metadata": {},
   "outputs": [],
   "source": [
    "def create_train_dataset(list_of_images,train_dir,train_df):\n",
    "    train_labels,train_images = [],[]\n",
    "    \n",
    "    for image in tqdm(list_of_images):\n",
    "        img = cv2.imread(train_dir+image)\n",
    "        img = cv2.resize(img,(64,64),interpolation=cv2.INTER_CUBIC)\n",
    "        train_images.append(img)\n",
    "        \n",
    "        if image in list(train_df['ID']):\n",
    "            train_labels.append(train_df.loc[train_df['ID']==image,'Class'].values[0])\n",
    "    \n",
    "    return train_images,train_labels\n",
    "            "
   ]
  },
  {
   "cell_type": "code",
   "execution_count": 7,
   "metadata": {},
   "outputs": [
    {
     "name": "stderr",
     "output_type": "stream",
     "text": [
      "100%|███████████████████████████████████████████████████████████████████████████| 19906/19906 [00:54<00:00, 363.30it/s]\n"
     ]
    }
   ],
   "source": [
    "train_images,train_labels = create_train_dataset(train_fnames,train_dir,train_df)"
   ]
  },
  {
   "cell_type": "code",
   "execution_count": 8,
   "metadata": {},
   "outputs": [
    {
     "name": "stdout",
     "output_type": "stream",
     "text": [
      "19906 19906\n"
     ]
    }
   ],
   "source": [
    "print(len(train_images),len(train_labels))"
   ]
  },
  {
   "cell_type": "code",
   "execution_count": 9,
   "metadata": {},
   "outputs": [],
   "source": [
    "def prep_test_data(list_of_images,test_df):\n",
    "    test_images = []\n",
    "    \n",
    "    for image in tqdm(list_of_images):\n",
    "        img = cv2.imread(test_dir+image)\n",
    "        img = cv2.resize(img,(64,64),interpolation=cv2.INTER_CUBIC)\n",
    "        test_images.append(img)\n",
    "        \n",
    "    return test_images"
   ]
  },
  {
   "cell_type": "code",
   "execution_count": 10,
   "metadata": {},
   "outputs": [
    {
     "name": "stderr",
     "output_type": "stream",
     "text": [
      "100%|████████████████████████████████████████████████████████████████████████████| 6636/6636 [00:02<00:00, 2778.53it/s]\n"
     ]
    }
   ],
   "source": [
    "test_images = prep_test_data(test_fnames,test_dir)"
   ]
  },
  {
   "cell_type": "code",
   "execution_count": 11,
   "metadata": {},
   "outputs": [],
   "source": [
    "from sklearn.preprocessing import LabelEncoder"
   ]
  },
  {
   "cell_type": "code",
   "execution_count": 12,
   "metadata": {},
   "outputs": [],
   "source": [
    "le = LabelEncoder()\n",
    "\n",
    "train_labels = le.fit_transform(train_labels)"
   ]
  },
  {
   "cell_type": "code",
   "execution_count": 13,
   "metadata": {},
   "outputs": [],
   "source": [
    "from sklearn.model_selection import train_test_split"
   ]
  },
  {
   "cell_type": "code",
   "execution_count": 14,
   "metadata": {},
   "outputs": [],
   "source": [
    "x_train,x_test,y_train,y_test = train_test_split(train_images,train_labels,test_size=0.2,stratify=train_labels,random_state=26)"
   ]
  },
  {
   "cell_type": "code",
   "execution_count": 15,
   "metadata": {},
   "outputs": [
    {
     "name": "stderr",
     "output_type": "stream",
     "text": [
      "Using TensorFlow backend.\n"
     ]
    }
   ],
   "source": [
    "from keras.preprocessing.image import ImageDataGenerator\n",
    "from keras.utils import to_categorical"
   ]
  },
  {
   "cell_type": "code",
   "execution_count": 16,
   "metadata": {},
   "outputs": [],
   "source": [
    "train_datagen = ImageDataGenerator(rescale=1/255,\n",
    "                                  shear_range=0.2,\n",
    "                                  zoom_range=0.2,\n",
    "                                  horizontal_flip=True,\n",
    "                                  vertical_flip=False,\n",
    "                                  rotation_range=20,\n",
    "                                  width_shift_range=0.2,\n",
    "                                  height_shift_range=0.1)\n",
    "\n",
    "test_datagen = ImageDataGenerator(rescale=1/255)"
   ]
  },
  {
   "cell_type": "code",
   "execution_count": 17,
   "metadata": {},
   "outputs": [],
   "source": [
    "train_datagen.fit(x_train)\n",
    "test_datagen.fit(x_test)\n",
    "test_datagen.fit(test_images)"
   ]
  },
  {
   "cell_type": "code",
   "execution_count": 18,
   "metadata": {},
   "outputs": [],
   "source": [
    "x_train = np.array(x_train)\n",
    "x_test = np.array(x_test)\n",
    "test_image = np.array(test_images)"
   ]
  },
  {
   "cell_type": "code",
   "execution_count": 19,
   "metadata": {},
   "outputs": [],
   "source": [
    "train_set = train_datagen.flow(x_train,\n",
    "                              to_categorical(y_train,3),\n",
    "                              batch_size=256)\n",
    "test_set = test_datagen.flow(x_test,\n",
    "                            to_categorical(y_test,3),\n",
    "                            batch_size=64)"
   ]
  },
  {
   "cell_type": "code",
   "execution_count": 43,
   "metadata": {},
   "outputs": [],
   "source": [
    "from keras.models import Sequential,Model\n",
    "from keras.applications import VGG16,InceptionV3,Xception,ResNet50,ResNet50V2,InceptionResNetV2\n",
    "from keras.layers import Dense,Dropout,Flatten,Conv2D,MaxPooling2D,BatchNormalization,GlobalAveragePooling2D,LeakyReLU\n",
    "from livelossplot import PlotLossesKeras\n",
    "from keras.callbacks import ModelCheckpoint,EarlyStopping\n",
    "from keras.layers.core import Activation\n",
    "from keras.layers.advanced_activations import ELU\n",
    "from keras.regularizers import l2"
   ]
  },
  {
   "cell_type": "code",
   "execution_count": null,
   "metadata": {},
   "outputs": [],
   "source": [
    "'''model_tr = ResNet50V2(weights='imagenet',\n",
    "                     include_top=False,\n",
    "                     input_shape=(64,64,3))\n",
    "\n",
    "#model_tr.trainable = False'''"
   ]
  },
  {
   "cell_type": "code",
   "execution_count": null,
   "metadata": {},
   "outputs": [],
   "source": [
    "'''l1 = GlobalAveragePooling2D()(model_tr.output)\n",
    "#l2 = Dense(256,activation='relu')(l1)\n",
    "\n",
    "#l3 = Dropout(0.35)(l2)\n",
    "l4 = Dense(128,activation='relu')(l1)\n",
    "l5 = Dropout(0.4)(l4)\n",
    "l6 = BatchNormalization()(l5)\n",
    "l7 = Dense(68,activation='relu')(l6)\n",
    "l8 = Dropout(0.25)(l7)\n",
    "l9  =Dense(34,activation='relu')(l8)\n",
    "\n",
    "out = Dense(3,activation='softmax')(l9)\n",
    "\n",
    "model_tl = Model(inputs=model_tr.input,outputs=out)\n",
    "#model_tl.summary()'''"
   ]
  },
  {
   "cell_type": "code",
   "execution_count": 23,
   "metadata": {},
   "outputs": [],
   "source": [
    "#model_tl.compile(loss='categorical_crossentropy',metrics=['accuracy'],optimizer='adam')"
   ]
  },
  {
   "cell_type": "code",
   "execution_count": null,
   "metadata": {},
   "outputs": [],
   "source": [
    "'''model = Sequential()\n",
    "\n",
    "model.add(model_tr)\n",
    "model.add(Flatten())\n",
    "model.add(Dense(128,activation='relu'))\n",
    "model.add(BatchNormalization())\n",
    "model.add(Dropout(0.20))\n",
    "model.add(Dense(64,activation='relu'))\n",
    "model.add(BatchNormalization())\n",
    "model.add(Dropout(0.15))\n",
    "model.add(Dense(16,activation='relu'))\n",
    "model.add(BatchNormalization())\n",
    "model.add(Dropout(0.15))\n",
    "model.add(Dense(3,activation='softmax'))\n",
    "\n",
    "model.compile(loss='categorical_crossentropy',metrics=['accuracy'],optimizer='adam')\n",
    "\n",
    "model.summary()'''"
   ]
  },
  {
   "cell_type": "code",
   "execution_count": null,
   "metadata": {},
   "outputs": [],
   "source": [
    "'''model = Sequential()\n",
    "model.add(Conv2D(64, (3, 3), input_shape = (64, 64, 3)))\n",
    "model.add(Conv2D(32, (3, 3), input_shape = (64, 64, 3)))\n",
    "model.add(LeakyReLU(alpha=0.3)) \n",
    "model.add(BatchNormalization())\n",
    "model.add(MaxPooling2D(pool_size = (2, 2)))# Dropout\n",
    "model.add(Dropout(0.4))#Max Poolingmodel.add(Conv2D(32, (3, 3)))\n",
    "model.add(MaxPooling2D(pool_size = (2, 2)))\n",
    "model.add(LeakyReLU(alpha=0.3))\n",
    "model.add(BatchNormalization())# Dropout\n",
    "model.add(Dropout(0.3))#Flatten\n",
    "model.add(Flatten())\n",
    "model.add(Dense(128))\n",
    "model.add(LeakyReLU(alpha=0.3))\n",
    "model.add(Dense(64))\n",
    "model.add(Dropout(0.5))\n",
    "model.add(Dense(3, activation = 'softmax'))\n",
    "\n",
    "model.compile(optimizer = 'adam', loss = 'categorical_crossentropy', metrics = ['accuracy'])'''"
   ]
  },
  {
   "cell_type": "code",
   "execution_count": 59,
   "metadata": {},
   "outputs": [],
   "source": [
    "model = Sequential()\n",
    "model.add(Conv2D(64, (3, 3), input_shape = (64, 64, 3)))\n",
    "model.add(Conv2D(32, (3, 3), input_shape = (64, 64, 3)))\n",
    "model.add(LeakyReLU(alpha=0.3))\n",
    "model.add(BatchNormalization())\n",
    "model.add(MaxPooling2D(pool_size = (2, 2)))\n",
    "# Dropout\n",
    "model.add(Dropout(0.4))\n",
    "#Max Pooling\n",
    "model.add(Conv2D(32, (3, 3)))\n",
    "model.add(MaxPooling2D(pool_size = (2, 2)))\n",
    "model.add(LeakyReLU(alpha=0.3))\n",
    "model.add(BatchNormalization())\n",
    "# Dropout\n",
    "model.add(Dropout(0.3))\n",
    "#Flatten\n",
    "model.add(Flatten())\n",
    "model.add(Dense(256))\n",
    "model.add(LeakyReLU(alpha=0.3))\n",
    "model.add(Dense(32))\n",
    "model.add(Dropout(0.5))\n",
    "model.add(Dense(3, activation = 'softmax'))\n",
    "\n",
    "model.compile(optimizer = 'adam', loss = 'categorical_crossentropy', metrics = ['accuracy'])"
   ]
  },
  {
   "cell_type": "code",
   "execution_count": 50,
   "metadata": {},
   "outputs": [],
   "source": [
    "'''model = Sequential()\n",
    "reg = 0.00015\n",
    "chanDim = -1\n",
    "# Block #1: first CONV => RELU => POOL layer set\n",
    "model.add(Conv2D(96, (11, 11), strides=(4, 4),\n",
    "            input_shape=(64,64,3), padding=\"same\",\n",
    "\t\t\tkernel_regularizer=l2(reg)))\n",
    "model.add(Activation(\"relu\"))\n",
    "model.add(BatchNormalization(axis=chanDim))\n",
    "model.add(MaxPooling2D(pool_size=(3, 3), strides=(2, 2)))\n",
    "model.add(Dropout(0.25))\n",
    "\n",
    "\t\t# Block #2: second CONV => RELU => POOL layer set\n",
    "model.add(Conv2D(256, (5, 5), padding=\"same\",\n",
    "\t\tkernel_regularizer=l2(reg)))\n",
    "model.add(Activation(\"relu\"))\n",
    "model.add(BatchNormalization(axis=chanDim))\n",
    "model.add(MaxPooling2D(pool_size=(3, 3), strides=(2, 2)))\n",
    "model.add(Dropout(0.25))\n",
    "\n",
    "\t\t# Block #3: CONV => RELU => CONV => RELU => CONV => RELU\n",
    "model.add(Conv2D(384, (3, 3), padding=\"same\",\n",
    "\t\tkernel_regularizer=l2(reg)))\n",
    "model.add(Activation(\"relu\"))\n",
    "model.add(BatchNormalization(axis=chanDim))\n",
    "model.add(Conv2D(384, (3, 3), padding=\"same\",\n",
    "\t\tkernel_regularizer=l2(reg)))\n",
    "model.add(Activation(\"relu\"))\n",
    "model.add(BatchNormalization(axis=chanDim))\n",
    "model.add(Conv2D(256, (3, 3), padding=\"same\",\n",
    "\t\tkernel_regularizer=l2(reg)))\n",
    "model.add(Activation(\"relu\"))\n",
    "model.add(BatchNormalization(axis=chanDim))\n",
    "model.add(MaxPooling2D(pool_size=(3, 3), strides=(2, 2)))\n",
    "model.add(Dropout(0.25))\n",
    "\n",
    "\t\t# Block #4: first set of FC => RELU layers\n",
    "model.add(Flatten())\n",
    "model.add(Dense(4096, kernel_regularizer=l2(reg)))\n",
    "model.add(Activation(\"relu\"))\n",
    "model.add(BatchNormalization())\n",
    "model.add(Dropout(0.5))\n",
    "\n",
    "\t\t# Block #5: second set of FC => RELU layers\n",
    "model.add(Dense(4096, kernel_regularizer=l2(reg)))\n",
    "model.add(Activation(\"relu\"))\n",
    "model.add(BatchNormalization())\n",
    "model.add(Dropout(0.5))\n",
    "\n",
    "\t\t# softmax classifier\n",
    "model.add(Dense(3, kernel_regularizer=l2(reg)))\n",
    "model.add(Activation(\"softmax\"))\n",
    "\n",
    "model.compile(optimizer='adam',loss='categorical_crosentropy',metrics=['accuracy'])'''\n",
    "\t\t\n"
   ]
  },
  {
   "cell_type": "code",
   "execution_count": null,
   "metadata": {},
   "outputs": [],
   "source": [
    "#tensorboard = TensorBoard(log_dir='logs/{}'.format(time()))"
   ]
  },
  {
   "cell_type": "code",
   "execution_count": 69,
   "metadata": {},
   "outputs": [],
   "source": [
    "callback = [PlotLossesKeras()]"
   ]
  },
  {
   "cell_type": "code",
   "execution_count": 70,
   "metadata": {},
   "outputs": [
    {
     "data": {
      "image/png": "[encoded data removed]",
      "text/plain": [
       "<Figure size 864x576 with 2 Axes>"
      ]
     },
     "metadata": {
      "needs_background": "light"
     },
     "output_type": "display_data"
    },
    {
     "name": "stdout",
     "output_type": "stream",
     "text": [
      "accuracy\n",
      "\tvalidation       \t (min:    0.576, max:    0.723, cur:    0.710)\n",
      "\ttraining         \t (min:    0.682, max:    0.697, cur:    0.697)\n",
      "Loss\n",
      "\tvalidation       \t (min:    0.332, max:    1.265, cur:    0.638)\n",
      "\ttraining         \t (min:    0.701, max:    0.728, cur:    0.701)\n"
     ]
    },
    {
     "data": {
      "text/plain": [
       "<keras.callbacks.callbacks.History at 0x20b85d8c9c8>"
      ]
     },
     "execution_count": 70,
     "metadata": {},
     "output_type": "execute_result"
    }
   ],
   "source": [
    "model.fit(train_set,\n",
    "         validation_data=test_set,\n",
    "         steps_per_epoch=len(train_set),\n",
    "         validation_steps=len(test_set),\n",
    "         callbacks=callback,\n",
    "         epochs=10)"
   ]
  },
  {
   "cell_type": "code",
   "execution_count": 71,
   "metadata": {},
   "outputs": [],
   "source": [
    "y_pred = model.predict(test_image)\n",
    "y_pred = [np.argmax(i) for i in y_pred]"
   ]
  },
  {
   "cell_type": "code",
   "execution_count": 72,
   "metadata": {},
   "outputs": [],
   "source": [
    "y_pred = le.inverse_transform(y_pred)"
   ]
  },
  {
   "cell_type": "code",
   "execution_count": 73,
   "metadata": {},
   "outputs": [],
   "source": [
    "submission = pd.DataFrame({'Class': y_pred,'ID':test_fnames})"
   ]
  },
  {
   "cell_type": "code",
   "execution_count": 74,
   "metadata": {},
   "outputs": [],
   "source": [
    "submission.to_csv(\"Submission.csv\",index=False)"
   ]
  },
  {
   "cell_type": "code",
   "execution_count": 42,
   "metadata": {},
   "outputs": [],
   "source": [
    "model_tl.save(\"Final Model/model_tl.h5\")"
   ]
  },
  {
   "cell_type": "code",
   "execution_count": 36,
   "metadata": {},
   "outputs": [],
   "source": [
    "model_json = model_tl.to_json()\n",
    "\n",
    "with open(\"final_model_tl.json\",'w') as file:\n",
    "    file.write(model_json)"
   ]
  },
  {
   "cell_type": "code",
   "execution_count": 75,
   "metadata": {},
   "outputs": [],
   "source": [
    "model.save(\"Final Model/model.h5\")"
   ]
  },
  {
   "cell_type": "code",
   "execution_count": 76,
   "metadata": {},
   "outputs": [],
   "source": [
    "model_json2 = model.to_json()\n",
    "\n",
    "with open(\"final_model.json\",'w') as file:\n",
    "    file.write(model_json2)"
   ]
  },
  {
   "cell_type": "code",
   "execution_count": null,
   "metadata": {},
   "outputs": [],
   "source": []
  }
 ],
 "metadata": {
  "kernelspec": {
   "display_name": "Python 3",
   "language": "python",
   "name": "python3"
  },
  "language_info": {
   "codemirror_mode": {
    "name": "ipython",
    "version": 3
   },
   "file_extension": ".py",
   "mimetype": "text/x-python",
   "name": "python",
   "nbconvert_exporter": "python",
   "pygments_lexer": "ipython3",
   "version": "3.7.7"
  }
 },
 "nbformat": 4,
 "nbformat_minor": 4
}
